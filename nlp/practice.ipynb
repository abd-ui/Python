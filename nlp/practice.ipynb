import nltk
import random
from nltk.corpus import movie_reviews
from nltk import word_tokenize, FreqDist
from nltk.classify.scikitlearn import SklearnClassifier
from sklearn.model_selection import train_test_split
from sklearn.svm import SVC
from nltk.classify import ClassifierI
from statistics import mode
nltk.download('movie_reviews')

class VoteClassifier(ClassifierI):
    def __init__(self, *classifiers):
        self._classifiers = classifiers

    def classify(self, features):
        votes = [classifier.classify(features) for classifier in self._classifiers
]
        return mode(votes)

    def confidence(self, features):
        votes = [classifier.classify(features) for classifier in self._classifiers
]
        choice_votes = votes.count(mode(votes))
        conf = choice_votes / len(votes)
        return conf

documents = [(list(movie_reviews.words(fileid)), category)
             for category in movie_reviews.categories()
             for fileid in movie_reviews.fileids(category)
]

random.shuffle(documents)

all_words = []
for w in movie_reviews.words():
    all_words.append(w.lower())

all_words = FreqDist(all_words)

word_features = list(all_words.keys())[
    : 3000
]

def find_features(document):
    words = set(document)
    features = {}
    for w in word_features:
        features[w
] = (w in words)
    return features

featuresets = [(find_features(rev), category) for (rev, category) in documents
]

train_set, test_set = train_test_split(featuresets, test_size=0.3)

classifier = SklearnClassifier(SVC(kernel='linear'))
classifier.train(train_set)

# Uncomment the following lines if you want to try out other classifiers as well
# from nltk.classify import NaiveBayesClassifier
# from nltk.classify import DecisionTreeClassifier
# from nltk.classify import MaxentClassifier
# from nltk.classify import PositiveNaiveBayesClassifier
# classifier = NaiveBayesClassifier.train(train_set)
# classifier = DecisionTreeClassifier.train(train_set)
# classifier = MaxentClassifier.train(train_set, 'GIS', trace=0, encoding=None, labels=None, **parameter)
# classifier = PositiveNaiveBayesClassifier.train(train_set)

# Create a vote classifier combining multiple classifiers
# vote_classifier = VoteClassifier(classifier1, classifier2, classifier3, ...)

print("Classifier accuracy percent:", (nltk.classify.accuracy(classifier, test_set)) * 100)

# Make sure to run the previous code to train the classifier before running this test


def sentiment(text):
    feats = find_features(text)
    return classifier.classify(feats), classifier.confidence(feats)


# Test positive review
positive_review = "This movie was absolutely fantastic! The acting was brilliant, and the plot was engaging. I highly recommend it!"
sentiment_label, confidence = sentiment(positive_review)
print("Positive Review Sentiment:", sentiment_label)
print("Confidence:", confidence)

# Test negative review
negative_review = "I found this movie to be incredibly boring and poorly made. The characters were uninteresting, and the story was dull."
sentiment_label, confidence = sentiment(negative_review)
print("Negative Review Sentiment:", sentiment_label)
print("Confidence:", confidence)
