{
 "cells": [
  {
   "attachments": {},
   "cell_type": "markdown",
   "metadata": {},
   "source": [
    "# Pandas Tutorial"
   ]
  },
  {
   "attachments": {},
   "cell_type": "markdown",
   "metadata": {},
   "source": [
    "### This is a brief tutorial on how to manipulate data using pandas"
   ]
  },
  {
   "attachments": {},
   "cell_type": "markdown",
   "metadata": {},
   "source": [
    "*The car model dataset is a comprehensive collection of information about cars. It includes information about the car's specifications, such as horsepower, torque, transmission type, drivetrain, fuel economy, number of doors, price, model year range, body type, engine type, and number of cylinders. The dataset also includes information about the car's history, such as the year it was first released, the number of units sold, and the average price.*\n",
    "\n",
    "*Data source: https://www.kaggle.com/datasets/peshimaammuzammil/2023-car-model-dataset-all-data-you-need?resource=download*"
   ]
  },
  {
   "attachments": {},
   "cell_type": "markdown",
   "metadata": {},
   "source": [
    "\n",
    "**Import the Pandas library into your Jupyter Notebook using the following import statement:**"
   ]
  },
  {
   "cell_type": "code",
   "execution_count": 1,
   "metadata": {},
   "outputs": [],
   "source": [
    "import pandas as pd"
   ]
  },
  {
   "attachments": {},
   "cell_type": "markdown",
   "metadata": {},
   "source": [
    "**Pandas provides the read_csv() function, which can load data from a CSV file :**"
   ]
  },
  {
   "cell_type": "code",
   "execution_count": 3,
   "metadata": {},
   "outputs": [],
   "source": [
    "data = pd.read_csv('Car_Models.csv')"
   ]
  },
  {
   "attachments": {},
   "cell_type": "markdown",
   "metadata": {},
   "source": [
    "**After loading the data, let's explore it to understand its structure and contents. Here are some useful functions:**"
   ]
  },
  {
   "cell_type": "code",
   "execution_count": 6,
   "metadata": {},
   "outputs": [
    {
     "name": "stdout",
     "output_type": "stream",
     "text": [
      "   Company          Model Horsepower     Torque  Transmission Type Drivetrain  \\\n",
      "0  Ferrari  812 Superfast     789 hp  530 lb-ft  7-speed automatic        RWD   \n",
      "1  Ferrari     F8 Tributo     710 hp  568 lb-ft  7-speed automatic        RWD   \n",
      "\n",
      "  Fuel Economy Number of Doors     Price Model Year Range Body Type  \\\n",
      "0    13/20 mpg               2  $366,712   2018 - Present     Coupe   \n",
      "1    15/19 mpg               2  $276,550   2020 - Present     Coupe   \n",
      "\n",
      "  Engine Type Number of Cylinders  \n",
      "0    6.5L V12                  12  \n",
      "1     3.9L V8                   8  \n",
      "         Company  Model          Horsepower                  Torque  \\\n",
      "401  Tata Motors  Tiago               70 hp                   95 Nm   \n",
      "402  Tata Motors  Tigor               70 hp                   95 Nm   \n",
      "403  Tata Motors   Thar  117 bhp @ 3500 rpm  250 Nm @ 1500-2000 rpm   \n",
      "\n",
      "                     Transmission Type                         Drivetrain  \\\n",
      "401                     5-speed manual                  Front-wheel drive   \n",
      "402                     5-speed manual                  Front-wheel drive   \n",
      "403  5-speed manual, 6-speed automatic  Rear-wheel drive, all-wheel drive   \n",
      "\n",
      "                Fuel Economy Number of Doors                      Price  \\\n",
      "401  23.84 kmpl / 26.59 kmpl               5  ₹4.19 lakhs - ₹6.99 lakhs   \n",
      "402  23.84 kmpl / 26.59 kmpl               5  ₹5.49 lakhs - ₹7.49 lakhs   \n",
      "403      15.2 kmpl / 18 kmpl               5  ₹10.55 Lakh - ₹16.78 Lakh   \n",
      "\n",
      "    Model Year Range  Body Type                      Engine Type  \\\n",
      "401     2016-present  Hatchback  1.2L naturally aspirated petrol   \n",
      "402     2017-present      Sedan  1.2L naturally aspirated petrol   \n",
      "403     2020-present        SUV         2.0L turbocharged diesel   \n",
      "\n",
      "    Number of Cylinders  \n",
      "401                   3  \n",
      "402                   3  \n",
      "403                   4  \n"
     ]
    }
   ],
   "source": [
    "print(data.head(2))\n",
    "print(data.tail(3))"
   ]
  },
  {
   "attachments": {},
   "cell_type": "markdown",
   "metadata": {},
   "source": []
  }
 ],
 "metadata": {
  "kernelspec": {
   "display_name": "Python 3",
   "language": "python",
   "name": "python3"
  },
  "language_info": {
   "codemirror_mode": {
    "name": "ipython",
    "version": 3
   },
   "file_extension": ".py",
   "mimetype": "text/x-python",
   "name": "python",
   "nbconvert_exporter": "python",
   "pygments_lexer": "ipython3",
   "version": "3.11.2"
  },
  "orig_nbformat": 4
 },
 "nbformat": 4,
 "nbformat_minor": 2
}
